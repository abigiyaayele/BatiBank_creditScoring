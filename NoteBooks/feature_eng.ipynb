{
 "cells": [
  {
   "cell_type": "markdown",
   "metadata": {},
   "source": [
    "# Task 3 - Feature Engineering"
   ]
  },
  {
   "cell_type": "markdown",
   "metadata": {},
   "source": [
    "importing necessary libraries"
   ]
  },
  {
   "cell_type": "code",
   "execution_count": 71,
   "metadata": {},
   "outputs": [],
   "source": [
    "import pandas as pd\n",
    "import numpy as np\n",
    "import matplotlib.pyplot as plt\n",
    "import seaborn as sns\n",
    "from sklearn.preprocessing import LabelEncoder, MinMaxScaler, StandardScaler\n",
    "from sklearn.impute import SimpleImputer\n",
    "from sklearn.cluster import KMeans\n",
    "from sklearn.decomposition import PCA\n",
    "\n",
    "\n"
   ]
  },
  {
   "cell_type": "code",
   "execution_count": 2,
   "metadata": {},
   "outputs": [],
   "source": [
    "def load_data2(file_path):\n",
    "    return pd.read_csv(file_path)\n",
    "\n",
    "# Load data2\n",
    "file_path = '../data/data2.csv'\n",
    "data = load_data2(file_path)"
   ]
  },
  {
   "cell_type": "code",
   "execution_count": 3,
   "metadata": {},
   "outputs": [
    {
     "name": "stdout",
     "output_type": "stream",
     "text": [
      "Number of rows: 95662\n",
      "Number of columns: 16\n",
      "\n",
      "Data types:\n",
      "TransactionId             int64\n",
      "BatchId                   int64\n",
      "AccountId                 int64\n",
      "SubscriptionId            int64\n",
      "CustomerId                int64\n",
      "CurrencyCode             object\n",
      "CountryCode               int64\n",
      "ProviderId                int64\n",
      "ProductId                 int64\n",
      "ProductCategory          object\n",
      "ChannelId                 int64\n",
      "Amount                  float64\n",
      "Value                     int64\n",
      "TransactionStartTime     object\n",
      "PricingStrategy           int64\n",
      "FraudResult               int64\n",
      "dtype: object\n",
      "\n",
      "\n"
     ]
    }
   ],
   "source": [
    "def data2_columnROW(data):\n",
    "    num_rows, num_cols = data.shape\n",
    "    data_types = data.dtypes\n",
    "\n",
    "    print(f\"Number of rows: {num_rows}\\nNumber of columns: {num_cols}\\n\")\n",
    "    print(\"Data types:\")\n",
    "    print(data_types)\n",
    "    print(\"\\n\")\n",
    "\n",
    "# Display overview of rows and columns\n",
    "data2_columnROW(data)"
   ]
  },
  {
   "cell_type": "markdown",
   "metadata": {},
   "source": [
    "Create aggregate features for each customer"
   ]
  },
  {
   "cell_type": "code",
   "execution_count": 5,
   "metadata": {},
   "outputs": [
    {
     "name": "stdout",
     "output_type": "stream",
     "text": [
      "Aggregate Features:\n",
      "   AccountId  TotalTransactionAmount  AverageTransactionAmount  \\\n",
      "0          1                 70000.0              23333.333333   \n",
      "1          2                 70000.0              35000.000000   \n",
      "2          3                  5000.0               5000.000000   \n",
      "3          4                 62000.0              62000.000000   \n",
      "4          5                 40000.0              20000.000000   \n",
      "\n",
      "   TransactionCount  StdDevTransactionAmount  \n",
      "0                 3              5773.502692  \n",
      "1                 2                 0.000000  \n",
      "2                 1                      NaN  \n",
      "3                 1                      NaN  \n",
      "4                 2                 0.000000  \n"
     ]
    }
   ],
   "source": [
    "def create_aggregate_features(data):\n",
    "    data['Amount'] = pd.to_numeric(data['Amount'], errors='coerce')\n",
    "    aggregate_features = data.groupby('AccountId').agg(\n",
    "        TotalTransactionAmount=('Amount', 'sum'),\n",
    "        AverageTransactionAmount=('Amount', 'mean'),\n",
    "        TransactionCount=('Amount', 'count'),\n",
    "        StdDevTransactionAmount=('Amount', 'std')\n",
    "    ).reset_index()\n",
    "    return aggregate_features\n",
    "\n",
    "# Feature Engineering\n",
    "aggregate_features = create_aggregate_features(data)\n",
    "print(\"Aggregate Features:\")\n",
    "print(aggregate_features.head())"
   ]
  },
  {
   "cell_type": "markdown",
   "metadata": {},
   "source": [
    "Extract Time Features:"
   ]
  },
  {
   "cell_type": "markdown",
   "metadata": {},
   "source": [
    " Extract Transaction Hour, Day, Month, Year"
   ]
  },
  {
   "cell_type": "code",
   "execution_count": 6,
   "metadata": {},
   "outputs": [
    {
     "name": "stdout",
     "output_type": "stream",
     "text": [
      "Data with Time Features:\n",
      "       TransactionStartTime  TransactionHour  TransactionDay  \\\n",
      "0 2018-11-15 02:18:49+00:00                2              15   \n",
      "1 2018-11-15 02:19:08+00:00                2              15   \n",
      "2 2018-11-15 02:44:21+00:00                2              15   \n",
      "3 2018-11-15 03:32:55+00:00                3              15   \n",
      "4 2018-11-15 03:34:21+00:00                3              15   \n",
      "\n",
      "   TransactionMonth  TransactionYear  \n",
      "0                11             2018  \n",
      "1                11             2018  \n",
      "2                11             2018  \n",
      "3                11             2018  \n",
      "4                11             2018  \n"
     ]
    }
   ],
   "source": [
    "\n",
    "def extract_time_features(data):\n",
    "    data['TransactionStartTime'] = pd.to_datetime(data['TransactionStartTime'])\n",
    "    data['TransactionHour'] = data['TransactionStartTime'].dt.hour\n",
    "    data['TransactionDay'] = data['TransactionStartTime'].dt.day\n",
    "    data['TransactionMonth'] = data['TransactionStartTime'].dt.month\n",
    "    data['TransactionYear'] = data['TransactionStartTime'].dt.year\n",
    "    return data\n",
    "\n",
    "# Feature Extraction\n",
    "data = extract_time_features(data)\n",
    "print(\"Data with Time Features:\")\n",
    "print(data[['TransactionStartTime', 'TransactionHour', 'TransactionDay', 'TransactionMonth', 'TransactionYear']].head())"
   ]
  },
  {
   "cell_type": "markdown",
   "metadata": {},
   "source": [
    "Encode Categorical Variables"
   ]
  },
  {
   "cell_type": "markdown",
   "metadata": {},
   "source": [
    "Identify categorical features"
   ]
  },
  {
   "cell_type": "code",
   "execution_count": 9,
   "metadata": {},
   "outputs": [
    {
     "name": "stdout",
     "output_type": "stream",
     "text": [
      "Categorical Features: ['CurrencyCode', 'ProductCategory']\n"
     ]
    }
   ],
   "source": [
    "def Identify_categorical_features(data):\n",
    " categorical_features = data.select_dtypes(include=['object']).columns.tolist()\n",
    " print(f\"Categorical Features: {categorical_features}\")\n",
    " \n",
    "Identify_categorical_features(data)"
   ]
  },
  {
   "cell_type": "markdown",
   "metadata": {},
   "source": [
    " Encode Categorical Variables: One-Hot Encoding"
   ]
  },
  {
   "cell_type": "code",
   "execution_count": 7,
   "metadata": {},
   "outputs": [
    {
     "name": "stdout",
     "output_type": "stream",
     "text": [
      "One-Hot Encoded Data:\n",
      "   TransactionId  BatchId  AccountId  SubscriptionId  CustomerId  CountryCode  \\\n",
      "0          76871    36123       3957             887        4406          256   \n",
      "1          73770    15642       4841            3829        4406          256   \n",
      "2          26203    53941       4229             222        4683          256   \n",
      "3            380   102363        648            2185         988          256   \n",
      "4          28195    38780       4841            3829         988          256   \n",
      "\n",
      "   ProviderId  ProductId  ChannelId   Amount  ...  CurrencyCode_UGX  \\\n",
      "0           6         10          3   1000.0  ...              True   \n",
      "1           4          6          2    -20.0  ...              True   \n",
      "2           6          1          3    500.0  ...              True   \n",
      "3           1         21          3  20000.0  ...              True   \n",
      "4           4          6          2   -644.0  ...              True   \n",
      "\n",
      "  ProductCategory_airtime  ProductCategory_data_bundles  \\\n",
      "0                    True                         False   \n",
      "1                   False                         False   \n",
      "2                    True                         False   \n",
      "3                   False                         False   \n",
      "4                   False                         False   \n",
      "\n",
      "   ProductCategory_financial_services  ProductCategory_movies  \\\n",
      "0                               False                   False   \n",
      "1                                True                   False   \n",
      "2                               False                   False   \n",
      "3                               False                   False   \n",
      "4                                True                   False   \n",
      "\n",
      "   ProductCategory_other  ProductCategory_ticket  ProductCategory_transport  \\\n",
      "0                  False                   False                      False   \n",
      "1                  False                   False                      False   \n",
      "2                  False                   False                      False   \n",
      "3                  False                   False                      False   \n",
      "4                  False                   False                      False   \n",
      "\n",
      "   ProductCategory_tv  ProductCategory_utility_bill  \n",
      "0               False                         False  \n",
      "1               False                         False  \n",
      "2               False                         False  \n",
      "3               False                          True  \n",
      "4               False                         False  \n",
      "\n",
      "[5 rows x 29 columns]\n"
     ]
    }
   ],
   "source": [
    "# Encode Categorical Variables: One-Hot Encoding\n",
    "def one_hot_encode(data, categorical_features):\n",
    "    data = pd.get_dummies(data, columns=categorical_features)\n",
    "    return data\n",
    "\n",
    "categorical_features = data.select_dtypes(include=['object']).columns.tolist()\n",
    "data_one_hot_encoded = one_hot_encode(data, categorical_features)\n",
    "print(\"One-Hot Encoded Data:\")\n",
    "print(data_one_hot_encoded.head())"
   ]
  },
  {
   "cell_type": "markdown",
   "metadata": {},
   "source": [
    " Encode Categorical Variables: Label Encoding"
   ]
  },
  {
   "cell_type": "code",
   "execution_count": 8,
   "metadata": {},
   "outputs": [
    {
     "name": "stdout",
     "output_type": "stream",
     "text": [
      "Label Encoded Data:\n",
      "   TransactionId  BatchId  AccountId  SubscriptionId  CustomerId  \\\n",
      "0          76871    36123       3957             887        4406   \n",
      "1          73770    15642       4841            3829        4406   \n",
      "2          26203    53941       4229             222        4683   \n",
      "3            380   102363        648            2185         988   \n",
      "4          28195    38780       4841            3829         988   \n",
      "\n",
      "   CurrencyCode  CountryCode  ProviderId  ProductId  ProductCategory  ...  \\\n",
      "0             0          256           6         10                0  ...   \n",
      "1             0          256           4          6                2  ...   \n",
      "2             0          256           6          1                0  ...   \n",
      "3             0          256           1         21                8  ...   \n",
      "4             0          256           4          6                2  ...   \n",
      "\n",
      "    Amount  Value      TransactionStartTime PricingStrategy  FraudResult  \\\n",
      "0   1000.0   1000 2018-11-15 02:18:49+00:00               2            0   \n",
      "1    -20.0     20 2018-11-15 02:19:08+00:00               2            0   \n",
      "2    500.0    500 2018-11-15 02:44:21+00:00               2            0   \n",
      "3  20000.0  21800 2018-11-15 03:32:55+00:00               2            0   \n",
      "4   -644.0    644 2018-11-15 03:34:21+00:00               2            0   \n",
      "\n",
      "   Recency  Frequency   Monetary  Month  Seasonality  \n",
      "0       90        119  109921.75     11           11  \n",
      "1       90        119  109921.75     11           11  \n",
      "2       90          2    1000.00     11           11  \n",
      "3       90         38  228727.20     11           12  \n",
      "4       90         38  228727.20     11           12  \n",
      "\n",
      "[5 rows x 21 columns]\n"
     ]
    }
   ],
   "source": [
    "# Encode Categorical Variables: Label Encoding\n",
    "def label_encode(data, categorical_features):\n",
    "    le = LabelEncoder()\n",
    "    for feature in categorical_features:\n",
    "        data[feature] = le.fit_transform(data[feature].astype(str))\n",
    "    return data\n",
    "\n",
    "data_label_encoded = label_encode(data, categorical_features)\n",
    "print(\"Label Encoded Data:\")\n",
    "print(data_label_encoded.head())"
   ]
  },
  {
   "cell_type": "code",
   "execution_count": 12,
   "metadata": {},
   "outputs": [
    {
     "data": {
      "text/html": [
       "<div>\n",
       "<style scoped>\n",
       "    .dataframe tbody tr th:only-of-type {\n",
       "        vertical-align: middle;\n",
       "    }\n",
       "\n",
       "    .dataframe tbody tr th {\n",
       "        vertical-align: top;\n",
       "    }\n",
       "\n",
       "    .dataframe thead th {\n",
       "        text-align: right;\n",
       "    }\n",
       "</style>\n",
       "<table border=\"1\" class=\"dataframe\">\n",
       "  <thead>\n",
       "    <tr style=\"text-align: right;\">\n",
       "      <th></th>\n",
       "      <th>TransactionId</th>\n",
       "      <th>BatchId</th>\n",
       "      <th>AccountId</th>\n",
       "      <th>SubscriptionId</th>\n",
       "      <th>CustomerId</th>\n",
       "      <th>CurrencyCode</th>\n",
       "      <th>CountryCode</th>\n",
       "      <th>ProviderId</th>\n",
       "      <th>ProductId</th>\n",
       "      <th>ProductCategory</th>\n",
       "      <th>ChannelId</th>\n",
       "      <th>Amount</th>\n",
       "      <th>Value</th>\n",
       "      <th>TransactionStartTime</th>\n",
       "      <th>PricingStrategy</th>\n",
       "      <th>FraudResult</th>\n",
       "      <th>TransactionHour</th>\n",
       "      <th>TransactionDay</th>\n",
       "      <th>TransactionMonth</th>\n",
       "      <th>TransactionYear</th>\n",
       "    </tr>\n",
       "  </thead>\n",
       "  <tbody>\n",
       "    <tr>\n",
       "      <th>0</th>\n",
       "      <td>76871</td>\n",
       "      <td>36123</td>\n",
       "      <td>3957</td>\n",
       "      <td>887</td>\n",
       "      <td>4406</td>\n",
       "      <td>0</td>\n",
       "      <td>256</td>\n",
       "      <td>6</td>\n",
       "      <td>10</td>\n",
       "      <td>0</td>\n",
       "      <td>3</td>\n",
       "      <td>1000.0</td>\n",
       "      <td>1000</td>\n",
       "      <td>2018-11-15 02:18:49+00:00</td>\n",
       "      <td>2</td>\n",
       "      <td>0</td>\n",
       "      <td>2</td>\n",
       "      <td>15</td>\n",
       "      <td>11</td>\n",
       "      <td>2018</td>\n",
       "    </tr>\n",
       "    <tr>\n",
       "      <th>1</th>\n",
       "      <td>73770</td>\n",
       "      <td>15642</td>\n",
       "      <td>4841</td>\n",
       "      <td>3829</td>\n",
       "      <td>4406</td>\n",
       "      <td>0</td>\n",
       "      <td>256</td>\n",
       "      <td>4</td>\n",
       "      <td>6</td>\n",
       "      <td>2</td>\n",
       "      <td>2</td>\n",
       "      <td>-20.0</td>\n",
       "      <td>20</td>\n",
       "      <td>2018-11-15 02:19:08+00:00</td>\n",
       "      <td>2</td>\n",
       "      <td>0</td>\n",
       "      <td>2</td>\n",
       "      <td>15</td>\n",
       "      <td>11</td>\n",
       "      <td>2018</td>\n",
       "    </tr>\n",
       "    <tr>\n",
       "      <th>2</th>\n",
       "      <td>26203</td>\n",
       "      <td>53941</td>\n",
       "      <td>4229</td>\n",
       "      <td>222</td>\n",
       "      <td>4683</td>\n",
       "      <td>0</td>\n",
       "      <td>256</td>\n",
       "      <td>6</td>\n",
       "      <td>1</td>\n",
       "      <td>0</td>\n",
       "      <td>3</td>\n",
       "      <td>500.0</td>\n",
       "      <td>500</td>\n",
       "      <td>2018-11-15 02:44:21+00:00</td>\n",
       "      <td>2</td>\n",
       "      <td>0</td>\n",
       "      <td>2</td>\n",
       "      <td>15</td>\n",
       "      <td>11</td>\n",
       "      <td>2018</td>\n",
       "    </tr>\n",
       "    <tr>\n",
       "      <th>3</th>\n",
       "      <td>380</td>\n",
       "      <td>102363</td>\n",
       "      <td>648</td>\n",
       "      <td>2185</td>\n",
       "      <td>988</td>\n",
       "      <td>0</td>\n",
       "      <td>256</td>\n",
       "      <td>1</td>\n",
       "      <td>21</td>\n",
       "      <td>8</td>\n",
       "      <td>3</td>\n",
       "      <td>20000.0</td>\n",
       "      <td>21800</td>\n",
       "      <td>2018-11-15 03:32:55+00:00</td>\n",
       "      <td>2</td>\n",
       "      <td>0</td>\n",
       "      <td>3</td>\n",
       "      <td>15</td>\n",
       "      <td>11</td>\n",
       "      <td>2018</td>\n",
       "    </tr>\n",
       "    <tr>\n",
       "      <th>4</th>\n",
       "      <td>28195</td>\n",
       "      <td>38780</td>\n",
       "      <td>4841</td>\n",
       "      <td>3829</td>\n",
       "      <td>988</td>\n",
       "      <td>0</td>\n",
       "      <td>256</td>\n",
       "      <td>4</td>\n",
       "      <td>6</td>\n",
       "      <td>2</td>\n",
       "      <td>2</td>\n",
       "      <td>-644.0</td>\n",
       "      <td>644</td>\n",
       "      <td>2018-11-15 03:34:21+00:00</td>\n",
       "      <td>2</td>\n",
       "      <td>0</td>\n",
       "      <td>3</td>\n",
       "      <td>15</td>\n",
       "      <td>11</td>\n",
       "      <td>2018</td>\n",
       "    </tr>\n",
       "  </tbody>\n",
       "</table>\n",
       "</div>"
      ],
      "text/plain": [
       "   TransactionId  BatchId  AccountId  SubscriptionId  CustomerId  \\\n",
       "0          76871    36123       3957             887        4406   \n",
       "1          73770    15642       4841            3829        4406   \n",
       "2          26203    53941       4229             222        4683   \n",
       "3            380   102363        648            2185         988   \n",
       "4          28195    38780       4841            3829         988   \n",
       "\n",
       "   CurrencyCode  CountryCode  ProviderId  ProductId  ProductCategory  \\\n",
       "0             0          256           6         10                0   \n",
       "1             0          256           4          6                2   \n",
       "2             0          256           6          1                0   \n",
       "3             0          256           1         21                8   \n",
       "4             0          256           4          6                2   \n",
       "\n",
       "   ChannelId   Amount  Value      TransactionStartTime  PricingStrategy  \\\n",
       "0          3   1000.0   1000 2018-11-15 02:18:49+00:00                2   \n",
       "1          2    -20.0     20 2018-11-15 02:19:08+00:00                2   \n",
       "2          3    500.0    500 2018-11-15 02:44:21+00:00                2   \n",
       "3          3  20000.0  21800 2018-11-15 03:32:55+00:00                2   \n",
       "4          2   -644.0    644 2018-11-15 03:34:21+00:00                2   \n",
       "\n",
       "   FraudResult  TransactionHour  TransactionDay  TransactionMonth  \\\n",
       "0            0                2              15                11   \n",
       "1            0                2              15                11   \n",
       "2            0                2              15                11   \n",
       "3            0                3              15                11   \n",
       "4            0                3              15                11   \n",
       "\n",
       "   TransactionYear  \n",
       "0             2018  \n",
       "1             2018  \n",
       "2             2018  \n",
       "3             2018  \n",
       "4             2018  "
      ]
     },
     "execution_count": 12,
     "metadata": {},
     "output_type": "execute_result"
    }
   ],
   "source": [
    "data.head()"
   ]
  },
  {
   "cell_type": "markdown",
   "metadata": {},
   "source": [
    "Handle Missing Values\n"
   ]
  },
  {
   "cell_type": "markdown",
   "metadata": {},
   "source": [
    "by using imputation"
   ]
  },
  {
   "cell_type": "code",
   "execution_count": 14,
   "metadata": {},
   "outputs": [],
   "source": [
    "def handle_missing_values(data, strategy='mean'):\n",
    "    numerical_features = data.select_dtypes(include=[np.number]).columns.tolist()\n",
    "    imputer = SimpleImputer(strategy=strategy)\n",
    "    data[numerical_features] = imputer.fit_transform(data[numerical_features])\n",
    "    return data\n",
    "\n",
    "# Handle Missing Values\n",
    "data = handle_missing_values(data, strategy='mean')\n"
   ]
  },
  {
   "cell_type": "code",
   "execution_count": 15,
   "metadata": {},
   "outputs": [
    {
     "name": "stdout",
     "output_type": "stream",
     "text": [
      "Missing Values:\n",
      "Series([], dtype: int64)\n",
      "\n",
      "\n"
     ]
    }
   ],
   "source": [
    "def identify_missing_values(data):\n",
    "    missing_values = data.isnull().sum()\n",
    "    print(\"Missing Values:\")\n",
    "    print(missing_values[missing_values > 0])\n",
    "    print(\"\\n\")\n",
    "# Identify missing values\n",
    "identify_missing_values(data)"
   ]
  },
  {
   "cell_type": "code",
   "execution_count": 5,
   "metadata": {},
   "outputs": [
    {
     "data": {
      "text/plain": [
       "TransactionId           0\n",
       "BatchId                 0\n",
       "AccountId               0\n",
       "SubscriptionId          0\n",
       "CustomerId              0\n",
       "CurrencyCode            0\n",
       "CountryCode             0\n",
       "ProviderId              0\n",
       "ProductId               0\n",
       "ProductCategory         0\n",
       "ChannelId               0\n",
       "Amount                  0\n",
       "Value                   0\n",
       "TransactionStartTime    0\n",
       "PricingStrategy         0\n",
       "FraudResult             0\n",
       "Recency                 0\n",
       "Frequency               0\n",
       "Monetary                0\n",
       "Month                   0\n",
       "Seasonality             0\n",
       "dtype: int64"
      ]
     },
     "execution_count": 5,
     "metadata": {},
     "output_type": "execute_result"
    }
   ],
   "source": [
    "data.isna().sum()"
   ]
  },
  {
   "cell_type": "markdown",
   "metadata": {},
   "source": [
    "# Normalize/Standardize Numerical Features\n",
    "Normalization and standardization are scaling techniques used to bring all numerical features onto a similar scale.\n"
   ]
  },
  {
   "cell_type": "markdown",
   "metadata": {},
   "source": [
    "Normalize Features:"
   ]
  },
  {
   "cell_type": "code",
   "execution_count": 16,
   "metadata": {},
   "outputs": [
    {
     "name": "stdout",
     "output_type": "stream",
     "text": [
      "Normalized Data:\n",
      "   TransactionId   BatchId  AccountId  SubscriptionId  CustomerId  \\\n",
      "0       0.546417  0.258949   0.817355        0.183078    0.589061   \n",
      "1       0.524374  0.112122   1.000000        0.791684    0.589061   \n",
      "2       0.186252  0.386684   0.873554        0.045511    0.626103   \n",
      "3       0.002694  0.733818   0.133678        0.451593    0.131987   \n",
      "4       0.200412  0.277996   1.000000        0.791684    0.131987   \n",
      "\n",
      "   CurrencyCode  CountryCode  ProviderId  ProductId  ProductCategory  \\\n",
      "0           0.0          0.0         1.0   0.346154             0.00   \n",
      "1           0.0          0.0         0.6   0.192308             0.25   \n",
      "2           0.0          0.0         1.0   0.000000             0.00   \n",
      "3           0.0          0.0         0.0   0.769231             1.00   \n",
      "4           0.0          0.0         0.6   0.192308             0.25   \n",
      "\n",
      "   ChannelId    Amount     Value      TransactionStartTime  PricingStrategy  \\\n",
      "0       0.50  0.092004  0.000101 2018-11-15 02:18:49+00:00              0.5   \n",
      "1       0.25  0.091910  0.000002 2018-11-15 02:19:08+00:00              0.5   \n",
      "2       0.50  0.091958  0.000050 2018-11-15 02:44:21+00:00              0.5   \n",
      "3       0.50  0.093750  0.002206 2018-11-15 03:32:55+00:00              0.5   \n",
      "4       0.25  0.091853  0.000065 2018-11-15 03:34:21+00:00              0.5   \n",
      "\n",
      "   FraudResult  TransactionHour  TransactionDay  TransactionMonth  \\\n",
      "0          0.0         0.086957        0.466667          0.909091   \n",
      "1          0.0         0.086957        0.466667          0.909091   \n",
      "2          0.0         0.086957        0.466667          0.909091   \n",
      "3          0.0         0.130435        0.466667          0.909091   \n",
      "4          0.0         0.130435        0.466667          0.909091   \n",
      "\n",
      "   TransactionYear  \n",
      "0              0.0  \n",
      "1              0.0  \n",
      "2              0.0  \n",
      "3              0.0  \n",
      "4              0.0  \n"
     ]
    }
   ],
   "source": [
    "def normalize_features(data):\n",
    "    numerical_features = data.select_dtypes(include=[np.number]).columns.tolist()\n",
    "    scaler = MinMaxScaler()\n",
    "    data[numerical_features] = scaler.fit_transform(data[numerical_features])\n",
    "    return data\n",
    "\n",
    "# Normalize Features\n",
    "normalized_data = normalize_features(data.copy())\n",
    "print(\"Normalized Data:\")\n",
    "print(normalized_data.head())"
   ]
  },
  {
   "cell_type": "markdown",
   "metadata": {},
   "source": [
    "Standardize Features:"
   ]
  },
  {
   "cell_type": "code",
   "execution_count": 17,
   "metadata": {},
   "outputs": [
    {
     "name": "stdout",
     "output_type": "stream",
     "text": [
      "Standardized Data:\n",
      "   TransactionId   BatchId  AccountId  SubscriptionId  CustomerId  \\\n",
      "0       0.160893 -0.847664   0.381677       -1.650828    0.774769   \n",
      "1       0.084563 -1.352296   0.948332        0.622801    0.774769   \n",
      "2      -1.086272 -0.408646   0.556032       -2.164752    0.942550   \n",
      "3      -1.721890  0.784424  -1.739433       -0.647711   -1.295536   \n",
      "4      -1.037240 -0.782198   0.948332        0.622801   -1.295536   \n",
      "\n",
      "   CurrencyCode  CountryCode  ProviderId  ProductId  ProductCategory  \\\n",
      "0           0.0          0.0    1.025848   0.554336        -0.799047   \n",
      "1           0.0          0.0   -0.502027  -0.304790         0.491064   \n",
      "2           0.0          0.0    1.025848  -1.378697        -0.799047   \n",
      "3           0.0          0.0   -2.793841   2.916933         4.361398   \n",
      "4           0.0          0.0   -0.502027  -0.304790         0.491064   \n",
      "\n",
      "   ChannelId    Amount     Value      TransactionStartTime  PricingStrategy  \\\n",
      "0   0.676000 -0.046371 -0.072291 2018-11-15 02:18:49+00:00        -0.349252   \n",
      "1  -1.114302 -0.054643 -0.080251 2018-11-15 02:19:08+00:00        -0.349252   \n",
      "2   0.676000 -0.050426 -0.076352 2018-11-15 02:44:21+00:00        -0.349252   \n",
      "3   0.676000  0.107717  0.096648 2018-11-15 03:32:55+00:00        -0.349252   \n",
      "4  -1.114302 -0.059704 -0.075183 2018-11-15 03:34:21+00:00        -0.349252   \n",
      "\n",
      "   FraudResult  TransactionHour  TransactionDay  TransactionMonth  \\\n",
      "0    -0.044962        -2.155530       -0.100739          0.848684   \n",
      "1    -0.044962        -2.155530       -0.100739          0.848684   \n",
      "2    -0.044962        -2.155530       -0.100739          0.848684   \n",
      "3    -0.044962        -1.949214       -0.100739          0.848684   \n",
      "4    -0.044962        -1.949214       -0.100739          0.848684   \n",
      "\n",
      "   TransactionYear  \n",
      "0        -0.994246  \n",
      "1        -0.994246  \n",
      "2        -0.994246  \n",
      "3        -0.994246  \n",
      "4        -0.994246  \n"
     ]
    }
   ],
   "source": [
    "def standardize_features(data):\n",
    "    numerical_features = data.select_dtypes(include=[np.number]).columns.tolist()\n",
    "    scaler = StandardScaler()\n",
    "    data[numerical_features] = scaler.fit_transform(data[numerical_features])\n",
    "    return data\n",
    "\n",
    "# Standardize Features\n",
    "standardized_data = standardize_features(data.copy())\n",
    "print(\"Standardized Data:\")\n",
    "print(standardized_data.head())"
   ]
  },
  {
   "cell_type": "markdown",
   "metadata": {},
   "source": [
    "Feature Engineering with Weight of Evidence (WoE) and Information Value (IV)"
   ]
  },
  {
   "cell_type": "markdown",
   "metadata": {},
   "source": [
    "To classify users into high and low risk groups, we can use the RFMS (Recency, Frequency, Monetary, and Seasonality) model. \n",
    "What is RFMS?\n",
    "RFMS stands for:\n",
    "\n",
    "Recency (R): The number of days since a customer's last transaction. It helps in understanding how recently the customer was active.\n",
    "Frequency (F): The total number of transactions made by the customer. It indicates how often the customer transacts.\n",
    "Monetary (M): The total amount spent by the customer. It shows how much the customer spends.\n",
    "Seasonality (S): The most common month in which the customer transacts. It helps in understanding patterns and seasonality in customer transactions."
   ]
  },
  {
   "cell_type": "markdown",
   "metadata": {},
   "source": [
    "Step 1: RFMS Calculation"
   ]
  },
  {
   "cell_type": "code",
   "execution_count": 3,
   "metadata": {},
   "outputs": [],
   "source": [
    "\n",
    "from datetime import datetime\n",
    "# Example functions to calculate RFMS components\n",
    "# Recency measures how recently a customer made a transaction.\n",
    "def calculate_recency(data, date_column='TransactionStartTime'):\n",
    "    data[date_column] = pd.to_datetime(data[date_column])\n",
    "    max_date = data[date_column].max()#Finds the most recent transaction date.\n",
    "    data['Recency'] = (max_date - data[date_column]).dt.days #Calculates the number of days since the last transaction for each transaction.\n",
    "    return data\n",
    "\n",
    "#Frequency measures how often a customer makes transactions.\n",
    "def calculate_frequency(data, id_column='CustomerId'):\n",
    "    frequency = data.groupby(id_column).size().reset_index(name='Frequency')#Groups the data by CustomerId and counts the number of transactions for each customer.\n",
    "    data = data.merge(frequency, on=id_column)\n",
    "    return data\n",
    "\n",
    "#Monetary measures the total amount spent by a customer.\n",
    "def calculate_monetary(data, id_column='CustomerId', amount_column='Amount'):\n",
    "    monetary = data.groupby(id_column)[amount_column].sum().reset_index(name='Monetary')# Groups the data by CustomerId and sums the transaction amounts for each customer\n",
    "    data = data.merge(monetary, on=id_column)\n",
    "    return data\n",
    "\n",
    "#Seasonality measures the most common month of transactions for each customer.\n",
    "def calculate_seasonality(data, date_column='TransactionStartTime'):\n",
    "    data[date_column] = pd.to_datetime(data[date_column])\n",
    "    data['Month'] = data[date_column].dt.month\n",
    "    # Groups the data by CustomerId and finds the most frequent transaction month for each customer.\n",
    "    seasonality = data.groupby('CustomerId')['Month'].apply(lambda x: x.value_counts().idxmax()).reset_index(name='Seasonality')\n",
    "    data = data.merge(seasonality, on='CustomerId')\n",
    "    return data\n",
    "\n",
    "# Calculate RFMS\n",
    "data = calculate_recency(data)\n",
    "data = calculate_frequency(data)\n",
    "data = calculate_monetary(data)\n",
    "data = calculate_seasonality(data)\n"
   ]
  },
  {
   "cell_type": "code",
   "execution_count": 9,
   "metadata": {},
   "outputs": [
    {
     "data": {
      "text/html": [
       "<div>\n",
       "<style scoped>\n",
       "    .dataframe tbody tr th:only-of-type {\n",
       "        vertical-align: middle;\n",
       "    }\n",
       "\n",
       "    .dataframe tbody tr th {\n",
       "        vertical-align: top;\n",
       "    }\n",
       "\n",
       "    .dataframe thead th {\n",
       "        text-align: right;\n",
       "    }\n",
       "</style>\n",
       "<table border=\"1\" class=\"dataframe\">\n",
       "  <thead>\n",
       "    <tr style=\"text-align: right;\">\n",
       "      <th></th>\n",
       "      <th>TransactionId</th>\n",
       "      <th>BatchId</th>\n",
       "      <th>AccountId</th>\n",
       "      <th>SubscriptionId</th>\n",
       "      <th>CustomerId</th>\n",
       "      <th>CurrencyCode</th>\n",
       "      <th>CountryCode</th>\n",
       "      <th>ProviderId</th>\n",
       "      <th>ProductId</th>\n",
       "      <th>ProductCategory</th>\n",
       "      <th>...</th>\n",
       "      <th>Amount</th>\n",
       "      <th>Value</th>\n",
       "      <th>TransactionStartTime</th>\n",
       "      <th>PricingStrategy</th>\n",
       "      <th>FraudResult</th>\n",
       "      <th>Recency</th>\n",
       "      <th>Frequency</th>\n",
       "      <th>Monetary</th>\n",
       "      <th>Month</th>\n",
       "      <th>Seasonality</th>\n",
       "    </tr>\n",
       "  </thead>\n",
       "  <tbody>\n",
       "    <tr>\n",
       "      <th>0</th>\n",
       "      <td>76871</td>\n",
       "      <td>36123</td>\n",
       "      <td>3957</td>\n",
       "      <td>887</td>\n",
       "      <td>4406</td>\n",
       "      <td>0</td>\n",
       "      <td>256</td>\n",
       "      <td>6</td>\n",
       "      <td>10</td>\n",
       "      <td>0</td>\n",
       "      <td>...</td>\n",
       "      <td>1000.0</td>\n",
       "      <td>1000</td>\n",
       "      <td>2018-11-15 02:18:49+00:00</td>\n",
       "      <td>2</td>\n",
       "      <td>0</td>\n",
       "      <td>90</td>\n",
       "      <td>119</td>\n",
       "      <td>109921.75</td>\n",
       "      <td>11</td>\n",
       "      <td>11</td>\n",
       "    </tr>\n",
       "    <tr>\n",
       "      <th>1</th>\n",
       "      <td>73770</td>\n",
       "      <td>15642</td>\n",
       "      <td>4841</td>\n",
       "      <td>3829</td>\n",
       "      <td>4406</td>\n",
       "      <td>0</td>\n",
       "      <td>256</td>\n",
       "      <td>4</td>\n",
       "      <td>6</td>\n",
       "      <td>2</td>\n",
       "      <td>...</td>\n",
       "      <td>-20.0</td>\n",
       "      <td>20</td>\n",
       "      <td>2018-11-15 02:19:08+00:00</td>\n",
       "      <td>2</td>\n",
       "      <td>0</td>\n",
       "      <td>90</td>\n",
       "      <td>119</td>\n",
       "      <td>109921.75</td>\n",
       "      <td>11</td>\n",
       "      <td>11</td>\n",
       "    </tr>\n",
       "    <tr>\n",
       "      <th>2</th>\n",
       "      <td>26203</td>\n",
       "      <td>53941</td>\n",
       "      <td>4229</td>\n",
       "      <td>222</td>\n",
       "      <td>4683</td>\n",
       "      <td>0</td>\n",
       "      <td>256</td>\n",
       "      <td>6</td>\n",
       "      <td>1</td>\n",
       "      <td>0</td>\n",
       "      <td>...</td>\n",
       "      <td>500.0</td>\n",
       "      <td>500</td>\n",
       "      <td>2018-11-15 02:44:21+00:00</td>\n",
       "      <td>2</td>\n",
       "      <td>0</td>\n",
       "      <td>90</td>\n",
       "      <td>2</td>\n",
       "      <td>1000.00</td>\n",
       "      <td>11</td>\n",
       "      <td>11</td>\n",
       "    </tr>\n",
       "    <tr>\n",
       "      <th>3</th>\n",
       "      <td>380</td>\n",
       "      <td>102363</td>\n",
       "      <td>648</td>\n",
       "      <td>2185</td>\n",
       "      <td>988</td>\n",
       "      <td>0</td>\n",
       "      <td>256</td>\n",
       "      <td>1</td>\n",
       "      <td>21</td>\n",
       "      <td>8</td>\n",
       "      <td>...</td>\n",
       "      <td>20000.0</td>\n",
       "      <td>21800</td>\n",
       "      <td>2018-11-15 03:32:55+00:00</td>\n",
       "      <td>2</td>\n",
       "      <td>0</td>\n",
       "      <td>90</td>\n",
       "      <td>38</td>\n",
       "      <td>228727.20</td>\n",
       "      <td>11</td>\n",
       "      <td>12</td>\n",
       "    </tr>\n",
       "    <tr>\n",
       "      <th>4</th>\n",
       "      <td>28195</td>\n",
       "      <td>38780</td>\n",
       "      <td>4841</td>\n",
       "      <td>3829</td>\n",
       "      <td>988</td>\n",
       "      <td>0</td>\n",
       "      <td>256</td>\n",
       "      <td>4</td>\n",
       "      <td>6</td>\n",
       "      <td>2</td>\n",
       "      <td>...</td>\n",
       "      <td>-644.0</td>\n",
       "      <td>644</td>\n",
       "      <td>2018-11-15 03:34:21+00:00</td>\n",
       "      <td>2</td>\n",
       "      <td>0</td>\n",
       "      <td>90</td>\n",
       "      <td>38</td>\n",
       "      <td>228727.20</td>\n",
       "      <td>11</td>\n",
       "      <td>12</td>\n",
       "    </tr>\n",
       "  </tbody>\n",
       "</table>\n",
       "<p>5 rows × 21 columns</p>\n",
       "</div>"
      ],
      "text/plain": [
       "   TransactionId  BatchId  AccountId  SubscriptionId  CustomerId  \\\n",
       "0          76871    36123       3957             887        4406   \n",
       "1          73770    15642       4841            3829        4406   \n",
       "2          26203    53941       4229             222        4683   \n",
       "3            380   102363        648            2185         988   \n",
       "4          28195    38780       4841            3829         988   \n",
       "\n",
       "   CurrencyCode  CountryCode  ProviderId  ProductId  ProductCategory  ...  \\\n",
       "0             0          256           6         10                0  ...   \n",
       "1             0          256           4          6                2  ...   \n",
       "2             0          256           6          1                0  ...   \n",
       "3             0          256           1         21                8  ...   \n",
       "4             0          256           4          6                2  ...   \n",
       "\n",
       "    Amount  Value      TransactionStartTime PricingStrategy  FraudResult  \\\n",
       "0   1000.0   1000 2018-11-15 02:18:49+00:00               2            0   \n",
       "1    -20.0     20 2018-11-15 02:19:08+00:00               2            0   \n",
       "2    500.0    500 2018-11-15 02:44:21+00:00               2            0   \n",
       "3  20000.0  21800 2018-11-15 03:32:55+00:00               2            0   \n",
       "4   -644.0    644 2018-11-15 03:34:21+00:00               2            0   \n",
       "\n",
       "   Recency  Frequency   Monetary  Month  Seasonality  \n",
       "0       90        119  109921.75     11           11  \n",
       "1       90        119  109921.75     11           11  \n",
       "2       90          2    1000.00     11           11  \n",
       "3       90         38  228727.20     11           12  \n",
       "4       90         38  228727.20     11           12  \n",
       "\n",
       "[5 rows x 21 columns]"
      ]
     },
     "execution_count": 9,
     "metadata": {},
     "output_type": "execute_result"
    }
   ],
   "source": [
    "data.head()"
   ]
  },
  {
   "cell_type": "markdown",
   "metadata": {},
   "source": [
    " Plot distribution of Recency"
   ]
  },
  {
   "cell_type": "code",
   "execution_count": 10,
   "metadata": {},
   "outputs": [
    {
     "data": {
      "image/png": "[encoded data removed]",
      "text/plain": [
       "<Figure size 1000x600 with 1 Axes>"
      ]
     },
     "metadata": {},
     "output_type": "display_data"
    }
   ],
   "source": [
    "def plot_recency_distribution(data, column='Recency'):\n",
    "    plt.figure(figsize=(10, 6))\n",
    "    sns.histplot(data[column], kde=True)\n",
    "    plt.title('Distribution of Recency')\n",
    "    plt.xlabel('Recency')\n",
    "    plt.ylabel('Frequency')\n",
    "    plt.show()\n",
    "\n",
    "plot_recency_distribution(data)"
   ]
  },
  {
   "cell_type": "markdown",
   "metadata": {},
   "source": [
    "Plot distribution of Frequency"
   ]
  },
  {
   "cell_type": "code",
   "execution_count": 11,
   "metadata": {},
   "outputs": [
    {
     "data": {
      "image/png": "[encoded data removed]",
      "text/plain": [
       "<Figure size 1000x600 with 1 Axes>"
      ]
     },
     "metadata": {},
     "output_type": "display_data"
    }
   ],
   "source": [
    "def plot_frequency_distribution(data, column='Frequency'):\n",
    "    plt.figure(figsize=(10, 6))\n",
    "    sns.histplot(data[column], kde=True)\n",
    "    plt.title('Distribution of Frequency')\n",
    "    plt.xlabel('Frequency')\n",
    "    plt.ylabel('Count')\n",
    "    plt.show()\n",
    "\n",
    "\n",
    "plot_frequency_distribution(data)"
   ]
  },
  {
   "cell_type": "markdown",
   "metadata": {},
   "source": [
    "Plot distribution of Monetary"
   ]
  },
  {
   "cell_type": "code",
   "execution_count": 12,
   "metadata": {},
   "outputs": [
    {
     "data": {
      "image/png": "[encoded data removed]",
      "text/plain": [
       "<Figure size 1000x600 with 1 Axes>"
      ]
     },
     "metadata": {},
     "output_type": "display_data"
    }
   ],
   "source": [
    "def plot_monetary_distribution(data, column='Monetary'):\n",
    "    plt.figure(figsize=(10, 6))\n",
    "    sns.histplot(data[column], kde=True)\n",
    "    plt.title('Distribution of Monetary')\n",
    "    plt.xlabel('Monetary Value')\n",
    "    plt.ylabel('Frequency')\n",
    "    plt.show()\n",
    "\n",
    "\n",
    "plot_monetary_distribution(data)"
   ]
  },
  {
   "cell_type": "markdown",
   "metadata": {},
   "source": [
    "Plot distribution of Seasonality (Month)"
   ]
  },
  {
   "cell_type": "code",
   "execution_count": 19,
   "metadata": {},
   "outputs": [
    {
     "data": {
      "image/png": "[encoded data removed]",
      "text/plain": [
       "<Figure size 1000x600 with 1 Axes>"
      ]
     },
     "metadata": {},
     "output_type": "display_data"
    }
   ],
   "source": [
    "def plot_seasonality_distribution(data, column='Seasonality'):\n",
    "    plt.figure(figsize=(10, 6))\n",
    "    sns.countplot(data[column])\n",
    "    plt.title('Distribution of Seasonality (Month)')\n",
    "    plt.xlabel('Month')\n",
    "    plt.ylabel('Count')\n",
    "    plt.show()\n",
    " \n",
    "\n",
    "plot_seasonality_distribution(data)"
   ]
  },
  {
   "cell_type": "code",
   "execution_count": 36,
   "metadata": {},
   "outputs": [
    {
     "name": "stdout",
     "output_type": "stream",
     "text": [
      "            Recency     Frequency      Monetary   Seasonality\n",
      "count  95662.000000  95662.000000  9.566200e+04  95662.000000\n",
      "mean      41.801175    392.982982 -3.599090e+06      7.449447\n",
      "std       25.588896    878.631072  2.180271e+07      5.229396\n",
      "min        0.000000      1.000000 -1.049000e+08      1.000000\n",
      "25%       18.000000     32.000000  6.000000e+04      1.000000\n",
      "50%       43.000000     93.000000  2.015113e+05     11.000000\n",
      "75%       63.000000    273.000000  7.089360e+05     12.000000\n",
      "max       90.000000   4091.000000  8.345124e+07     12.000000\n"
     ]
    }
   ],
   "source": [
    "print(data[['Recency', 'Frequency', 'Monetary','Seasonality']].describe())\n"
   ]
  },
  {
   "cell_type": "markdown",
   "metadata": {},
   "source": [
    "Step 2: Classify Users"
   ]
  },
  {
   "cell_type": "markdown",
   "metadata": {},
   "source": [
    "classify users into \"good\" and \"bad\" based on their RFMS scores. in credit scoring, customers with low recency, high frequency, and high monetary values might be considered less risky, while those with high recency and low frequency might be flagged as higher risk."
   ]
  },
  {
   "cell_type": "markdown",
   "metadata": {},
   "source": [
    "Recency Thresholds: Users with a Recency of 18 days or less are considered \"good\", while those with 63 days or more are considered \"bad\".\n",
    "Frequency Thresholds: Users with a Frequency of 273 transactions or more are considered \"good\", while those with 32 transactions or less are considered \"bad\".\n",
    "Monetary Thresholds: Users with a Monetary value of 708,936 or more are considered \"good\", while those with 60,000 or less are considered \"bad\".\n",
    "Any user who does not clearly fall into the \"good\" or \"bad\" category based on these strict thresholds is classified as \"average\"."
   ]
  },
  {
   "cell_type": "code",
   "execution_count": 57,
   "metadata": {},
   "outputs": [
    {
     "data": {
      "text/plain": [
       "RFMS_Score\n",
       "bad        47839\n",
       "average    43600\n",
       "good        4223\n",
       "Name: count, dtype: int64"
      ]
     },
     "execution_count": 57,
     "metadata": {},
     "output_type": "execute_result"
    }
   ],
   "source": [
    "\n",
    "\n",
    "def classify_users(data, recency_threshold, frequency_threshold, monetary_threshold):\n",
    "    conditions = [\n",
    "        (data['Recency'] <= recency_threshold['good']) &\n",
    "        (data['Frequency'] >= frequency_threshold['good']) &\n",
    "        (data['Monetary'] >= monetary_threshold['good']),\n",
    "        \n",
    "        (data['Recency'] > recency_threshold['bad']) |\n",
    "        (data['Frequency'] <= frequency_threshold['bad']) |\n",
    "        (data['Monetary'] <= monetary_threshold['bad'])\n",
    "    ]\n",
    "    \n",
    "    choices = ['good', 'bad']\n",
    "    data['RFMS_Score'] = np.select(conditions, choices, default='average')\n",
    "    return data\n",
    "\n",
    "# Define thresholds based on quartiles\n",
    "thresholds = {\n",
    "    'recency': {'good': 18, 'bad': 63},\n",
    "    'frequency': {'good': 273, 'bad': 32},\n",
    "    'monetary': {'good': 708936, 'bad': 60000}\n",
    "}\n",
    "\n",
    "# Classify users\n",
    "data = classify_users(data, thresholds['recency'], thresholds['frequency'], thresholds['monetary'])\n",
    "\n",
    "# Check the results\n",
    "data['RFMS_Score'].value_counts()\n"
   ]
  },
  {
   "cell_type": "code",
   "execution_count": 55,
   "metadata": {},
   "outputs": [
    {
     "data": {
      "text/plain": [
       "RFMS_Score\n",
       "bad        70306\n",
       "average    24601\n",
       "good         755\n",
       "Name: count, dtype: int64"
      ]
     },
     "execution_count": 55,
     "metadata": {},
     "output_type": "execute_result"
    }
   ],
   "source": [
    "\n",
    "\n",
    "def classify_users(data, recency_threshold, frequency_threshold, monetary_threshold, seasonality_threshold):\n",
    "    conditions = [\n",
    "        (data['Recency'] <= recency_threshold['good']) &\n",
    "        (data['Frequency'] >= frequency_threshold['good']) &\n",
    "        (data['Monetary'] >= monetary_threshold['good']) &\n",
    "        (data['Seasonality'].isin(seasonality_threshold['high_season'])),\n",
    "        \n",
    "        (data['Recency'] > recency_threshold['bad']) |\n",
    "        (data['Frequency'] <= frequency_threshold['bad']) |\n",
    "        (data['Monetary'] <= monetary_threshold['bad']) |\n",
    "        (data['Seasonality'].isin(seasonality_threshold['low_season']))\n",
    "    ]\n",
    "    \n",
    "    choices = ['good', 'bad']\n",
    "    data['RFMS_Score'] = np.select(conditions, choices, default='average')\n",
    "    return data\n",
    "\n",
    "# Define thresholds based on quartiles\n",
    "thresholds = {\n",
    "    'recency': {'good': 18, 'bad': 63},\n",
    "    'frequency': {'good': 273, 'bad': 32},\n",
    "    'monetary': {'good': 708936, 'bad': 60000},\n",
    "    'seasonality': {'high_season': [11, 12,10], 'low_season': [1,2, 3, 4, 5, 6, 7, 8, 9]}\n",
    "}\n",
    "\n",
    "# Classify users\n",
    "data = classify_users(data, thresholds['recency'], thresholds['frequency'], thresholds['monetary'], thresholds['seasonality'])\n",
    "\n",
    "# Check the results\n",
    "data['RFMS_Score'].value_counts()\n",
    "\n"
   ]
  },
  {
   "cell_type": "code",
   "execution_count": 24,
   "metadata": {},
   "outputs": [
    {
     "name": "stdout",
     "output_type": "stream",
     "text": [
      "<class 'pandas.core.frame.DataFrame'>\n",
      "RangeIndex: 95662 entries, 0 to 95661\n",
      "Data columns (total 23 columns):\n",
      " #   Column                Non-Null Count  Dtype              \n",
      "---  ------                --------------  -----              \n",
      " 0   TransactionId         95662 non-null  int64              \n",
      " 1   BatchId               95662 non-null  int64              \n",
      " 2   AccountId             95662 non-null  int64              \n",
      " 3   SubscriptionId        95662 non-null  int64              \n",
      " 4   CustomerId            95662 non-null  int64              \n",
      " 5   CurrencyCode          95662 non-null  int32              \n",
      " 6   CountryCode           95662 non-null  int64              \n",
      " 7   ProviderId            95662 non-null  int64              \n",
      " 8   ProductId             95662 non-null  int64              \n",
      " 9   ProductCategory       95662 non-null  int32              \n",
      " 10  ChannelId             95662 non-null  int64              \n",
      " 11  Amount                95662 non-null  float64            \n",
      " 12  Value                 95662 non-null  int64              \n",
      " 13  TransactionStartTime  95662 non-null  datetime64[ns, UTC]\n",
      " 14  PricingStrategy       95662 non-null  int64              \n",
      " 15  FraudResult           95662 non-null  int64              \n",
      " 16  Recency               95662 non-null  int64              \n",
      " 17  Frequency             95662 non-null  int64              \n",
      " 18  Monetary              95662 non-null  float64            \n",
      " 19  Month                 95662 non-null  int32              \n",
      " 20  Seasonality           95662 non-null  int32              \n",
      " 21  RFMS_Score            95662 non-null  object             \n",
      " 22  Cluster               95662 non-null  int32              \n",
      "dtypes: datetime64[ns, UTC](1), float64(2), int32(5), int64(14), object(1)\n",
      "memory usage: 15.0+ MB\n"
     ]
    }
   ],
   "source": [
    "data.info()"
   ]
  },
  {
   "cell_type": "code",
   "execution_count": 58,
   "metadata": {},
   "outputs": [
    {
     "data": {
      "text/html": [
       "<div>\n",
       "<style scoped>\n",
       "    .dataframe tbody tr th:only-of-type {\n",
       "        vertical-align: middle;\n",
       "    }\n",
       "\n",
       "    .dataframe tbody tr th {\n",
       "        vertical-align: top;\n",
       "    }\n",
       "\n",
       "    .dataframe thead th {\n",
       "        text-align: right;\n",
       "    }\n",
       "</style>\n",
       "<table border=\"1\" class=\"dataframe\">\n",
       "  <thead>\n",
       "    <tr style=\"text-align: right;\">\n",
       "      <th></th>\n",
       "      <th>TransactionId</th>\n",
       "      <th>BatchId</th>\n",
       "      <th>AccountId</th>\n",
       "      <th>SubscriptionId</th>\n",
       "      <th>CustomerId</th>\n",
       "      <th>CurrencyCode</th>\n",
       "      <th>CountryCode</th>\n",
       "      <th>ProviderId</th>\n",
       "      <th>ProductId</th>\n",
       "      <th>ProductCategory</th>\n",
       "      <th>...</th>\n",
       "      <th>Amount</th>\n",
       "      <th>Value</th>\n",
       "      <th>PricingStrategy</th>\n",
       "      <th>FraudResult</th>\n",
       "      <th>Recency</th>\n",
       "      <th>Frequency</th>\n",
       "      <th>Monetary</th>\n",
       "      <th>Month</th>\n",
       "      <th>Seasonality</th>\n",
       "      <th>Cluster</th>\n",
       "    </tr>\n",
       "    <tr>\n",
       "      <th>Cluster</th>\n",
       "      <th></th>\n",
       "      <th></th>\n",
       "      <th></th>\n",
       "      <th></th>\n",
       "      <th></th>\n",
       "      <th></th>\n",
       "      <th></th>\n",
       "      <th></th>\n",
       "      <th></th>\n",
       "      <th></th>\n",
       "      <th></th>\n",
       "      <th></th>\n",
       "      <th></th>\n",
       "      <th></th>\n",
       "      <th></th>\n",
       "      <th></th>\n",
       "      <th></th>\n",
       "      <th></th>\n",
       "      <th></th>\n",
       "      <th></th>\n",
       "      <th></th>\n",
       "    </tr>\n",
       "  </thead>\n",
       "  <tbody>\n",
       "    <tr>\n",
       "      <th>0</th>\n",
       "      <td>70296.075909</td>\n",
       "      <td>68234.479161</td>\n",
       "      <td>3263.544867</td>\n",
       "      <td>2899.713765</td>\n",
       "      <td>2953.747267</td>\n",
       "      <td>0.0</td>\n",
       "      <td>256.0</td>\n",
       "      <td>4.698574</td>\n",
       "      <td>7.635328</td>\n",
       "      <td>1.258905</td>\n",
       "      <td>...</td>\n",
       "      <td>9746.114605</td>\n",
       "      <td>10988.539856</td>\n",
       "      <td>2.202446</td>\n",
       "      <td>0.002619</td>\n",
       "      <td>17.816958</td>\n",
       "      <td>163.075499</td>\n",
       "      <td>9.420732e+05</td>\n",
       "      <td>1.359206</td>\n",
       "      <td>3.870821</td>\n",
       "      <td>0.0</td>\n",
       "    </tr>\n",
       "    <tr>\n",
       "      <th>1</th>\n",
       "      <td>69554.171841</td>\n",
       "      <td>118284.212662</td>\n",
       "      <td>4249.000000</td>\n",
       "      <td>4429.000000</td>\n",
       "      <td>7343.000000</td>\n",
       "      <td>0.0</td>\n",
       "      <td>256.0</td>\n",
       "      <td>4.000000</td>\n",
       "      <td>5.956490</td>\n",
       "      <td>0.000000</td>\n",
       "      <td>...</td>\n",
       "      <td>-25641.652408</td>\n",
       "      <td>25641.652408</td>\n",
       "      <td>3.999022</td>\n",
       "      <td>0.000000</td>\n",
       "      <td>52.725006</td>\n",
       "      <td>4091.000000</td>\n",
       "      <td>-1.049000e+08</td>\n",
       "      <td>6.572476</td>\n",
       "      <td>12.000000</td>\n",
       "      <td>1.0</td>\n",
       "    </tr>\n",
       "    <tr>\n",
       "      <th>2</th>\n",
       "      <td>70436.836939</td>\n",
       "      <td>68538.498059</td>\n",
       "      <td>3375.706103</td>\n",
       "      <td>3016.126492</td>\n",
       "      <td>2924.503074</td>\n",
       "      <td>0.0</td>\n",
       "      <td>256.0</td>\n",
       "      <td>4.675409</td>\n",
       "      <td>7.345383</td>\n",
       "      <td>1.326459</td>\n",
       "      <td>...</td>\n",
       "      <td>6705.625442</td>\n",
       "      <td>7547.255796</td>\n",
       "      <td>2.155676</td>\n",
       "      <td>0.001636</td>\n",
       "      <td>62.958249</td>\n",
       "      <td>287.370455</td>\n",
       "      <td>9.123466e+05</td>\n",
       "      <td>11.362503</td>\n",
       "      <td>10.355559</td>\n",
       "      <td>2.0</td>\n",
       "    </tr>\n",
       "  </tbody>\n",
       "</table>\n",
       "<p>3 rows × 21 columns</p>\n",
       "</div>"
      ],
      "text/plain": [
       "         TransactionId        BatchId    AccountId  SubscriptionId  \\\n",
       "Cluster                                                              \n",
       "0         70296.075909   68234.479161  3263.544867     2899.713765   \n",
       "1         69554.171841  118284.212662  4249.000000     4429.000000   \n",
       "2         70436.836939   68538.498059  3375.706103     3016.126492   \n",
       "\n",
       "          CustomerId  CurrencyCode  CountryCode  ProviderId  ProductId  \\\n",
       "Cluster                                                                  \n",
       "0        2953.747267           0.0        256.0    4.698574   7.635328   \n",
       "1        7343.000000           0.0        256.0    4.000000   5.956490   \n",
       "2        2924.503074           0.0        256.0    4.675409   7.345383   \n",
       "\n",
       "         ProductCategory  ...        Amount         Value  PricingStrategy  \\\n",
       "Cluster                   ...                                                \n",
       "0               1.258905  ...   9746.114605  10988.539856         2.202446   \n",
       "1               0.000000  ... -25641.652408  25641.652408         3.999022   \n",
       "2               1.326459  ...   6705.625442   7547.255796         2.155676   \n",
       "\n",
       "         FraudResult    Recency    Frequency      Monetary      Month  \\\n",
       "Cluster                                                                 \n",
       "0           0.002619  17.816958   163.075499  9.420732e+05   1.359206   \n",
       "1           0.000000  52.725006  4091.000000 -1.049000e+08   6.572476   \n",
       "2           0.001636  62.958249   287.370455  9.123466e+05  11.362503   \n",
       "\n",
       "         Seasonality  Cluster  \n",
       "Cluster                        \n",
       "0           3.870821      0.0  \n",
       "1          12.000000      1.0  \n",
       "2          10.355559      2.0  \n",
       "\n",
       "[3 rows x 21 columns]"
      ]
     },
     "execution_count": 58,
     "metadata": {},
     "output_type": "execute_result"
    }
   ],
   "source": [
    "# Select RFMS columns\n",
    "rfms_data = data[['Recency', 'Frequency', 'Monetary']]\n",
    "\n",
    "# Ensure RFMS columns are numeric\n",
    "rfms_data = rfms_data.apply(pd.to_numeric, errors='coerce')\n",
    "\n",
    "# Handle missing values by filling them with the mean of the column\n",
    "rfms_data = rfms_data.fillna(rfms_data.mean())\n",
    "\n",
    "# Standardize the data\n",
    "scaler = StandardScaler()\n",
    "rfms_scaled = scaler.fit_transform(rfms_data)\n",
    "\n",
    "# Apply K-Means\n",
    "kmeans = KMeans(n_clusters=3, random_state=0)\n",
    "data['Cluster'] = kmeans.fit_predict(rfms_scaled)\n",
    "\n",
    "# Analyze clusters - select only numeric columns\n",
    "numeric_columns = data.select_dtypes(include=[np.number]).columns\n",
    "cluster_means = data.groupby('Cluster')[numeric_columns].mean()\n",
    "cluster_means"
   ]
  },
  {
   "cell_type": "markdown",
   "metadata": {},
   "source": [
    "Visualize the Clusters"
   ]
  },
  {
   "cell_type": "markdown",
   "metadata": {},
   "source": [
    "Use visualizations to help understand the clusters better."
   ]
  },
  {
   "cell_type": "code",
   "execution_count": 59,
   "metadata": {},
   "outputs": [
    {
     "data": {
      "image/png": "[encoded data removed]",
      "text/plain": [
       "<Figure size 1000x600 with 1 Axes>"
      ]
     },
     "metadata": {},
     "output_type": "display_data"
    }
   ],
   "source": [
    "\n",
    "# Visualize clusters in 2D space using first two principal components (PCA)\n",
    "\n",
    "pca = PCA(n_components=2)\n",
    "pca_components = pca.fit_transform(rfms_scaled)\n",
    "\n",
    "plt.figure(figsize=(10, 6))\n",
    "sns.scatterplot(x=pca_components[:, 0], y=pca_components[:, 1], hue=data['Cluster'], palette='Set1')\n",
    "plt.title('Cluster Visualization with PCA')\n",
    "plt.xlabel('PCA Component 1')\n",
    "plt.ylabel('PCA Component 2')\n",
    "plt.show()\n"
   ]
  },
  {
   "cell_type": "markdown",
   "metadata": {},
   "source": [
    "Cluster 1 (Blue): High-value customers are labeled as \"good\".\n",
    "Cluster 0 (Red): Moderate-value customers are labeled as \"average\".\n",
    "Cluster 2 (Green): Higher risk customers are labeled as \"bad\"."
   ]
  },
  {
   "cell_type": "code",
   "execution_count": 61,
   "metadata": {},
   "outputs": [
    {
     "name": "stdout",
     "output_type": "stream",
     "text": [
      "Risk_Label\n",
      "bad        47663\n",
      "average    43908\n",
      "good        4091\n",
      "Name: count, dtype: int64\n"
     ]
    },
    {
     "data": {
      "text/html": [
       "<div>\n",
       "<style scoped>\n",
       "    .dataframe tbody tr th:only-of-type {\n",
       "        vertical-align: middle;\n",
       "    }\n",
       "\n",
       "    .dataframe tbody tr th {\n",
       "        vertical-align: top;\n",
       "    }\n",
       "\n",
       "    .dataframe thead th {\n",
       "        text-align: right;\n",
       "    }\n",
       "</style>\n",
       "<table border=\"1\" class=\"dataframe\">\n",
       "  <thead>\n",
       "    <tr style=\"text-align: right;\">\n",
       "      <th></th>\n",
       "      <th>TransactionId</th>\n",
       "      <th>BatchId</th>\n",
       "      <th>AccountId</th>\n",
       "      <th>SubscriptionId</th>\n",
       "      <th>CustomerId</th>\n",
       "      <th>CurrencyCode</th>\n",
       "      <th>CountryCode</th>\n",
       "      <th>ProviderId</th>\n",
       "      <th>ProductId</th>\n",
       "      <th>ProductCategory</th>\n",
       "      <th>...</th>\n",
       "      <th>PricingStrategy</th>\n",
       "      <th>FraudResult</th>\n",
       "      <th>Recency</th>\n",
       "      <th>Frequency</th>\n",
       "      <th>Monetary</th>\n",
       "      <th>Month</th>\n",
       "      <th>Seasonality</th>\n",
       "      <th>RFMS_Score</th>\n",
       "      <th>Cluster</th>\n",
       "      <th>Risk_Label</th>\n",
       "    </tr>\n",
       "  </thead>\n",
       "  <tbody>\n",
       "    <tr>\n",
       "      <th>0</th>\n",
       "      <td>76871</td>\n",
       "      <td>36123</td>\n",
       "      <td>3957</td>\n",
       "      <td>887</td>\n",
       "      <td>4406</td>\n",
       "      <td>0</td>\n",
       "      <td>256</td>\n",
       "      <td>6</td>\n",
       "      <td>10</td>\n",
       "      <td>0</td>\n",
       "      <td>...</td>\n",
       "      <td>2</td>\n",
       "      <td>0</td>\n",
       "      <td>90</td>\n",
       "      <td>119</td>\n",
       "      <td>109921.75</td>\n",
       "      <td>11</td>\n",
       "      <td>11</td>\n",
       "      <td>bad</td>\n",
       "      <td>2</td>\n",
       "      <td>bad</td>\n",
       "    </tr>\n",
       "    <tr>\n",
       "      <th>1</th>\n",
       "      <td>73770</td>\n",
       "      <td>15642</td>\n",
       "      <td>4841</td>\n",
       "      <td>3829</td>\n",
       "      <td>4406</td>\n",
       "      <td>0</td>\n",
       "      <td>256</td>\n",
       "      <td>4</td>\n",
       "      <td>6</td>\n",
       "      <td>2</td>\n",
       "      <td>...</td>\n",
       "      <td>2</td>\n",
       "      <td>0</td>\n",
       "      <td>90</td>\n",
       "      <td>119</td>\n",
       "      <td>109921.75</td>\n",
       "      <td>11</td>\n",
       "      <td>11</td>\n",
       "      <td>bad</td>\n",
       "      <td>2</td>\n",
       "      <td>bad</td>\n",
       "    </tr>\n",
       "    <tr>\n",
       "      <th>2</th>\n",
       "      <td>26203</td>\n",
       "      <td>53941</td>\n",
       "      <td>4229</td>\n",
       "      <td>222</td>\n",
       "      <td>4683</td>\n",
       "      <td>0</td>\n",
       "      <td>256</td>\n",
       "      <td>6</td>\n",
       "      <td>1</td>\n",
       "      <td>0</td>\n",
       "      <td>...</td>\n",
       "      <td>2</td>\n",
       "      <td>0</td>\n",
       "      <td>90</td>\n",
       "      <td>2</td>\n",
       "      <td>1000.00</td>\n",
       "      <td>11</td>\n",
       "      <td>11</td>\n",
       "      <td>bad</td>\n",
       "      <td>2</td>\n",
       "      <td>bad</td>\n",
       "    </tr>\n",
       "    <tr>\n",
       "      <th>3</th>\n",
       "      <td>380</td>\n",
       "      <td>102363</td>\n",
       "      <td>648</td>\n",
       "      <td>2185</td>\n",
       "      <td>988</td>\n",
       "      <td>0</td>\n",
       "      <td>256</td>\n",
       "      <td>1</td>\n",
       "      <td>21</td>\n",
       "      <td>8</td>\n",
       "      <td>...</td>\n",
       "      <td>2</td>\n",
       "      <td>0</td>\n",
       "      <td>90</td>\n",
       "      <td>38</td>\n",
       "      <td>228727.20</td>\n",
       "      <td>11</td>\n",
       "      <td>12</td>\n",
       "      <td>bad</td>\n",
       "      <td>2</td>\n",
       "      <td>bad</td>\n",
       "    </tr>\n",
       "    <tr>\n",
       "      <th>4</th>\n",
       "      <td>28195</td>\n",
       "      <td>38780</td>\n",
       "      <td>4841</td>\n",
       "      <td>3829</td>\n",
       "      <td>988</td>\n",
       "      <td>0</td>\n",
       "      <td>256</td>\n",
       "      <td>4</td>\n",
       "      <td>6</td>\n",
       "      <td>2</td>\n",
       "      <td>...</td>\n",
       "      <td>2</td>\n",
       "      <td>0</td>\n",
       "      <td>90</td>\n",
       "      <td>38</td>\n",
       "      <td>228727.20</td>\n",
       "      <td>11</td>\n",
       "      <td>12</td>\n",
       "      <td>bad</td>\n",
       "      <td>2</td>\n",
       "      <td>bad</td>\n",
       "    </tr>\n",
       "  </tbody>\n",
       "</table>\n",
       "<p>5 rows × 24 columns</p>\n",
       "</div>"
      ],
      "text/plain": [
       "   TransactionId  BatchId  AccountId  SubscriptionId  CustomerId  \\\n",
       "0          76871    36123       3957             887        4406   \n",
       "1          73770    15642       4841            3829        4406   \n",
       "2          26203    53941       4229             222        4683   \n",
       "3            380   102363        648            2185         988   \n",
       "4          28195    38780       4841            3829         988   \n",
       "\n",
       "   CurrencyCode  CountryCode  ProviderId  ProductId  ProductCategory  ...  \\\n",
       "0             0          256           6         10                0  ...   \n",
       "1             0          256           4          6                2  ...   \n",
       "2             0          256           6          1                0  ...   \n",
       "3             0          256           1         21                8  ...   \n",
       "4             0          256           4          6                2  ...   \n",
       "\n",
       "   PricingStrategy  FraudResult  Recency Frequency   Monetary  Month  \\\n",
       "0                2            0       90       119  109921.75     11   \n",
       "1                2            0       90       119  109921.75     11   \n",
       "2                2            0       90         2    1000.00     11   \n",
       "3                2            0       90        38  228727.20     11   \n",
       "4                2            0       90        38  228727.20     11   \n",
       "\n",
       "   Seasonality  RFMS_Score  Cluster  Risk_Label  \n",
       "0           11         bad        2         bad  \n",
       "1           11         bad        2         bad  \n",
       "2           11         bad        2         bad  \n",
       "3           12         bad        2         bad  \n",
       "4           12         bad        2         bad  \n",
       "\n",
       "[5 rows x 24 columns]"
      ]
     },
     "execution_count": 61,
     "metadata": {},
     "output_type": "execute_result"
    }
   ],
   "source": [
    "# Based on the analysis, we assign good and bad labels to the clusters\n",
    "def assign_risk_labels(cluster):\n",
    "    if cluster == 1:\n",
    "        return 'good'\n",
    "    elif cluster == 0:\n",
    "        return 'average'\n",
    "    elif cluster == 2:\n",
    "        return 'bad'\n",
    "    \n",
    "# Apply the function to assign labels\n",
    "data['Risk_Label'] = data['Cluster'].apply(assign_risk_labels)\n",
    "\n",
    "# Verify the distribution of labels\n",
    "print(data['Risk_Label'].value_counts())\n",
    "\n",
    "# Show the first few rows to verify the labels\n",
    "data.head()\n"
   ]
  }
 ],
 "metadata": {
  "kernelspec": {
   "display_name": "Python 3",
   "language": "python",
   "name": "python3"
  },
  "language_info": {
   "codemirror_mode": {
    "name": "ipython",
    "version": 3
   },
   "file_extension": ".py",
   "mimetype": "text/x-python",
   "name": "python",
   "nbconvert_exporter": "python",
   "pygments_lexer": "ipython3",
   "version": "3.11.1"
  }
 },
 "nbformat": 4,
 "nbformat_minor": 2
}
