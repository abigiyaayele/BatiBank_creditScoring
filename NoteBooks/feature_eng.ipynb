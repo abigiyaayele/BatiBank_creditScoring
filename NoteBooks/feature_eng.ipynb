{
 "cells": [
  {
   "cell_type": "markdown",
   "metadata": {},
   "source": [
    "# Task 3 - Feature Engineering"
   ]
  },
  {
   "cell_type": "markdown",
   "metadata": {},
   "source": [
    "importing necessary libraries"
   ]
  },
  {
   "cell_type": "code",
   "execution_count": 13,
   "metadata": {},
   "outputs": [],
   "source": [
    "import pandas as pd\n",
    "import numpy as np\n",
    "import matplotlib.pyplot as plt\n",
    "import seaborn as sns\n",
    "from sklearn.preprocessing import LabelEncoder, MinMaxScaler, StandardScaler\n",
    "from sklearn.impute import SimpleImputer\n"
   ]
  },
  {
   "cell_type": "code",
   "execution_count": 2,
   "metadata": {},
   "outputs": [],
   "source": [
    "def load_data2(file_path):\n",
    "    return pd.read_csv(file_path)\n",
    "\n",
    "# Load data2\n",
    "file_path = '../data/data2.csv'\n",
    "data = load_data2(file_path)"
   ]
  },
  {
   "cell_type": "code",
   "execution_count": 3,
   "metadata": {},
   "outputs": [
    {
     "name": "stdout",
     "output_type": "stream",
     "text": [
      "Number of rows: 95662\n",
      "Number of columns: 16\n",
      "\n",
      "Data types:\n",
      "TransactionId             int64\n",
      "BatchId                   int64\n",
      "AccountId                 int64\n",
      "SubscriptionId            int64\n",
      "CustomerId                int64\n",
      "CurrencyCode             object\n",
      "CountryCode               int64\n",
      "ProviderId                int64\n",
      "ProductId                 int64\n",
      "ProductCategory          object\n",
      "ChannelId                 int64\n",
      "Amount                  float64\n",
      "Value                     int64\n",
      "TransactionStartTime     object\n",
      "PricingStrategy           int64\n",
      "FraudResult               int64\n",
      "dtype: object\n",
      "\n",
      "\n"
     ]
    }
   ],
   "source": [
    "def data2_columnROW(data):\n",
    "    num_rows, num_cols = data.shape\n",
    "    data_types = data.dtypes\n",
    "\n",
    "    print(f\"Number of rows: {num_rows}\\nNumber of columns: {num_cols}\\n\")\n",
    "    print(\"Data types:\")\n",
    "    print(data_types)\n",
    "    print(\"\\n\")\n",
    "\n",
    "# Display overview of rows and columns\n",
    "data2_columnROW(data)"
   ]
  },
  {
   "cell_type": "markdown",
   "metadata": {},
   "source": [
    "Create aggregate features for each customer"
   ]
  },
  {
   "cell_type": "code",
   "execution_count": 5,
   "metadata": {},
   "outputs": [
    {
     "name": "stdout",
     "output_type": "stream",
     "text": [
      "Aggregate Features:\n",
      "   AccountId  TotalTransactionAmount  AverageTransactionAmount  \\\n",
      "0          1                 70000.0              23333.333333   \n",
      "1          2                 70000.0              35000.000000   \n",
      "2          3                  5000.0               5000.000000   \n",
      "3          4                 62000.0              62000.000000   \n",
      "4          5                 40000.0              20000.000000   \n",
      "\n",
      "   TransactionCount  StdDevTransactionAmount  \n",
      "0                 3              5773.502692  \n",
      "1                 2                 0.000000  \n",
      "2                 1                      NaN  \n",
      "3                 1                      NaN  \n",
      "4                 2                 0.000000  \n"
     ]
    }
   ],
   "source": [
    "def create_aggregate_features(data):\n",
    "    data['Amount'] = pd.to_numeric(data['Amount'], errors='coerce')\n",
    "    aggregate_features = data.groupby('AccountId').agg(\n",
    "        TotalTransactionAmount=('Amount', 'sum'),\n",
    "        AverageTransactionAmount=('Amount', 'mean'),\n",
    "        TransactionCount=('Amount', 'count'),\n",
    "        StdDevTransactionAmount=('Amount', 'std')\n",
    "    ).reset_index()\n",
    "    return aggregate_features\n",
    "\n",
    "# Feature Engineering\n",
    "aggregate_features = create_aggregate_features(data)\n",
    "print(\"Aggregate Features:\")\n",
    "print(aggregate_features.head())"
   ]
  },
  {
   "cell_type": "markdown",
   "metadata": {},
   "source": [
    "Extract Time Features:"
   ]
  },
  {
   "cell_type": "markdown",
   "metadata": {},
   "source": [
    " Extract Transaction Hour, Day, Month, Year"
   ]
  },
  {
   "cell_type": "code",
   "execution_count": 6,
   "metadata": {},
   "outputs": [
    {
     "name": "stdout",
     "output_type": "stream",
     "text": [
      "Data with Time Features:\n",
      "       TransactionStartTime  TransactionHour  TransactionDay  \\\n",
      "0 2018-11-15 02:18:49+00:00                2              15   \n",
      "1 2018-11-15 02:19:08+00:00                2              15   \n",
      "2 2018-11-15 02:44:21+00:00                2              15   \n",
      "3 2018-11-15 03:32:55+00:00                3              15   \n",
      "4 2018-11-15 03:34:21+00:00                3              15   \n",
      "\n",
      "   TransactionMonth  TransactionYear  \n",
      "0                11             2018  \n",
      "1                11             2018  \n",
      "2                11             2018  \n",
      "3                11             2018  \n",
      "4                11             2018  \n"
     ]
    }
   ],
   "source": [
    "\n",
    "def extract_time_features(data):\n",
    "    data['TransactionStartTime'] = pd.to_datetime(data['TransactionStartTime'])\n",
    "    data['TransactionHour'] = data['TransactionStartTime'].dt.hour\n",
    "    data['TransactionDay'] = data['TransactionStartTime'].dt.day\n",
    "    data['TransactionMonth'] = data['TransactionStartTime'].dt.month\n",
    "    data['TransactionYear'] = data['TransactionStartTime'].dt.year\n",
    "    return data\n",
    "\n",
    "# Feature Extraction\n",
    "data = extract_time_features(data)\n",
    "print(\"Data with Time Features:\")\n",
    "print(data[['TransactionStartTime', 'TransactionHour', 'TransactionDay', 'TransactionMonth', 'TransactionYear']].head())"
   ]
  },
  {
   "cell_type": "markdown",
   "metadata": {},
   "source": [
    "Encode Categorical Variables"
   ]
  },
  {
   "cell_type": "markdown",
   "metadata": {},
   "source": [
    "Identify categorical features"
   ]
  },
  {
   "cell_type": "code",
   "execution_count": 9,
   "metadata": {},
   "outputs": [
    {
     "name": "stdout",
     "output_type": "stream",
     "text": [
      "Categorical Features: ['CurrencyCode', 'ProductCategory']\n"
     ]
    }
   ],
   "source": [
    "def Identify_categorical_features(data):\n",
    " categorical_features = data.select_dtypes(include=['object']).columns.tolist()\n",
    " print(f\"Categorical Features: {categorical_features}\")\n",
    " \n",
    "Identify_categorical_features(data)"
   ]
  },
  {
   "cell_type": "markdown",
   "metadata": {},
   "source": [
    " Encode Categorical Variables: One-Hot Encoding"
   ]
  },
  {
   "cell_type": "code",
   "execution_count": 10,
   "metadata": {},
   "outputs": [
    {
     "name": "stdout",
     "output_type": "stream",
     "text": [
      "One-Hot Encoded Data:\n",
      "   TransactionId  BatchId  AccountId  SubscriptionId  CustomerId  CountryCode  \\\n",
      "0          76871    36123       3957             887        4406          256   \n",
      "1          73770    15642       4841            3829        4406          256   \n",
      "2          26203    53941       4229             222        4683          256   \n",
      "3            380   102363        648            2185         988          256   \n",
      "4          28195    38780       4841            3829         988          256   \n",
      "\n",
      "   ProviderId  ProductId  ChannelId   Amount  ...  CurrencyCode_UGX  \\\n",
      "0           6         10          3   1000.0  ...              True   \n",
      "1           4          6          2    -20.0  ...              True   \n",
      "2           6          1          3    500.0  ...              True   \n",
      "3           1         21          3  20000.0  ...              True   \n",
      "4           4          6          2   -644.0  ...              True   \n",
      "\n",
      "  ProductCategory_airtime  ProductCategory_data_bundles  \\\n",
      "0                    True                         False   \n",
      "1                   False                         False   \n",
      "2                    True                         False   \n",
      "3                   False                         False   \n",
      "4                   False                         False   \n",
      "\n",
      "   ProductCategory_financial_services  ProductCategory_movies  \\\n",
      "0                               False                   False   \n",
      "1                                True                   False   \n",
      "2                               False                   False   \n",
      "3                               False                   False   \n",
      "4                                True                   False   \n",
      "\n",
      "   ProductCategory_other  ProductCategory_ticket  ProductCategory_transport  \\\n",
      "0                  False                   False                      False   \n",
      "1                  False                   False                      False   \n",
      "2                  False                   False                      False   \n",
      "3                  False                   False                      False   \n",
      "4                  False                   False                      False   \n",
      "\n",
      "   ProductCategory_tv  ProductCategory_utility_bill  \n",
      "0               False                         False  \n",
      "1               False                         False  \n",
      "2               False                         False  \n",
      "3               False                          True  \n",
      "4               False                         False  \n",
      "\n",
      "[5 rows x 28 columns]\n"
     ]
    }
   ],
   "source": [
    "# Encode Categorical Variables: One-Hot Encoding\n",
    "def one_hot_encode(data, categorical_features):\n",
    "    data = pd.get_dummies(data, columns=categorical_features)\n",
    "    return data\n",
    "\n",
    "categorical_features = data.select_dtypes(include=['object']).columns.tolist()\n",
    "data_one_hot_encoded = one_hot_encode(data, categorical_features)\n",
    "print(\"One-Hot Encoded Data:\")\n",
    "print(data_one_hot_encoded.head())"
   ]
  },
  {
   "cell_type": "markdown",
   "metadata": {},
   "source": [
    " Encode Categorical Variables: Label Encoding"
   ]
  },
  {
   "cell_type": "code",
   "execution_count": 11,
   "metadata": {},
   "outputs": [
    {
     "name": "stdout",
     "output_type": "stream",
     "text": [
      "Label Encoded Data:\n",
      "   TransactionId  BatchId  AccountId  SubscriptionId  CustomerId  \\\n",
      "0          76871    36123       3957             887        4406   \n",
      "1          73770    15642       4841            3829        4406   \n",
      "2          26203    53941       4229             222        4683   \n",
      "3            380   102363        648            2185         988   \n",
      "4          28195    38780       4841            3829         988   \n",
      "\n",
      "   CurrencyCode  CountryCode  ProviderId  ProductId  ProductCategory  \\\n",
      "0             0          256           6         10                0   \n",
      "1             0          256           4          6                2   \n",
      "2             0          256           6          1                0   \n",
      "3             0          256           1         21                8   \n",
      "4             0          256           4          6                2   \n",
      "\n",
      "   ChannelId   Amount  Value      TransactionStartTime  PricingStrategy  \\\n",
      "0          3   1000.0   1000 2018-11-15 02:18:49+00:00                2   \n",
      "1          2    -20.0     20 2018-11-15 02:19:08+00:00                2   \n",
      "2          3    500.0    500 2018-11-15 02:44:21+00:00                2   \n",
      "3          3  20000.0  21800 2018-11-15 03:32:55+00:00                2   \n",
      "4          2   -644.0    644 2018-11-15 03:34:21+00:00                2   \n",
      "\n",
      "   FraudResult  TransactionHour  TransactionDay  TransactionMonth  \\\n",
      "0            0                2              15                11   \n",
      "1            0                2              15                11   \n",
      "2            0                2              15                11   \n",
      "3            0                3              15                11   \n",
      "4            0                3              15                11   \n",
      "\n",
      "   TransactionYear  \n",
      "0             2018  \n",
      "1             2018  \n",
      "2             2018  \n",
      "3             2018  \n",
      "4             2018  \n"
     ]
    }
   ],
   "source": [
    "# Encode Categorical Variables: Label Encoding\n",
    "def label_encode(data, categorical_features):\n",
    "    le = LabelEncoder()\n",
    "    for feature in categorical_features:\n",
    "        data[feature] = le.fit_transform(data[feature].astype(str))\n",
    "    return data\n",
    "\n",
    "data_label_encoded = label_encode(data, categorical_features)\n",
    "print(\"Label Encoded Data:\")\n",
    "print(data_label_encoded.head())"
   ]
  },
  {
   "cell_type": "code",
   "execution_count": 12,
   "metadata": {},
   "outputs": [
    {
     "data": {
      "text/html": [
       "<div>\n",
       "<style scoped>\n",
       "    .dataframe tbody tr th:only-of-type {\n",
       "        vertical-align: middle;\n",
       "    }\n",
       "\n",
       "    .dataframe tbody tr th {\n",
       "        vertical-align: top;\n",
       "    }\n",
       "\n",
       "    .dataframe thead th {\n",
       "        text-align: right;\n",
       "    }\n",
       "</style>\n",
       "<table border=\"1\" class=\"dataframe\">\n",
       "  <thead>\n",
       "    <tr style=\"text-align: right;\">\n",
       "      <th></th>\n",
       "      <th>TransactionId</th>\n",
       "      <th>BatchId</th>\n",
       "      <th>AccountId</th>\n",
       "      <th>SubscriptionId</th>\n",
       "      <th>CustomerId</th>\n",
       "      <th>CurrencyCode</th>\n",
       "      <th>CountryCode</th>\n",
       "      <th>ProviderId</th>\n",
       "      <th>ProductId</th>\n",
       "      <th>ProductCategory</th>\n",
       "      <th>ChannelId</th>\n",
       "      <th>Amount</th>\n",
       "      <th>Value</th>\n",
       "      <th>TransactionStartTime</th>\n",
       "      <th>PricingStrategy</th>\n",
       "      <th>FraudResult</th>\n",
       "      <th>TransactionHour</th>\n",
       "      <th>TransactionDay</th>\n",
       "      <th>TransactionMonth</th>\n",
       "      <th>TransactionYear</th>\n",
       "    </tr>\n",
       "  </thead>\n",
       "  <tbody>\n",
       "    <tr>\n",
       "      <th>0</th>\n",
       "      <td>76871</td>\n",
       "      <td>36123</td>\n",
       "      <td>3957</td>\n",
       "      <td>887</td>\n",
       "      <td>4406</td>\n",
       "      <td>0</td>\n",
       "      <td>256</td>\n",
       "      <td>6</td>\n",
       "      <td>10</td>\n",
       "      <td>0</td>\n",
       "      <td>3</td>\n",
       "      <td>1000.0</td>\n",
       "      <td>1000</td>\n",
       "      <td>2018-11-15 02:18:49+00:00</td>\n",
       "      <td>2</td>\n",
       "      <td>0</td>\n",
       "      <td>2</td>\n",
       "      <td>15</td>\n",
       "      <td>11</td>\n",
       "      <td>2018</td>\n",
       "    </tr>\n",
       "    <tr>\n",
       "      <th>1</th>\n",
       "      <td>73770</td>\n",
       "      <td>15642</td>\n",
       "      <td>4841</td>\n",
       "      <td>3829</td>\n",
       "      <td>4406</td>\n",
       "      <td>0</td>\n",
       "      <td>256</td>\n",
       "      <td>4</td>\n",
       "      <td>6</td>\n",
       "      <td>2</td>\n",
       "      <td>2</td>\n",
       "      <td>-20.0</td>\n",
       "      <td>20</td>\n",
       "      <td>2018-11-15 02:19:08+00:00</td>\n",
       "      <td>2</td>\n",
       "      <td>0</td>\n",
       "      <td>2</td>\n",
       "      <td>15</td>\n",
       "      <td>11</td>\n",
       "      <td>2018</td>\n",
       "    </tr>\n",
       "    <tr>\n",
       "      <th>2</th>\n",
       "      <td>26203</td>\n",
       "      <td>53941</td>\n",
       "      <td>4229</td>\n",
       "      <td>222</td>\n",
       "      <td>4683</td>\n",
       "      <td>0</td>\n",
       "      <td>256</td>\n",
       "      <td>6</td>\n",
       "      <td>1</td>\n",
       "      <td>0</td>\n",
       "      <td>3</td>\n",
       "      <td>500.0</td>\n",
       "      <td>500</td>\n",
       "      <td>2018-11-15 02:44:21+00:00</td>\n",
       "      <td>2</td>\n",
       "      <td>0</td>\n",
       "      <td>2</td>\n",
       "      <td>15</td>\n",
       "      <td>11</td>\n",
       "      <td>2018</td>\n",
       "    </tr>\n",
       "    <tr>\n",
       "      <th>3</th>\n",
       "      <td>380</td>\n",
       "      <td>102363</td>\n",
       "      <td>648</td>\n",
       "      <td>2185</td>\n",
       "      <td>988</td>\n",
       "      <td>0</td>\n",
       "      <td>256</td>\n",
       "      <td>1</td>\n",
       "      <td>21</td>\n",
       "      <td>8</td>\n",
       "      <td>3</td>\n",
       "      <td>20000.0</td>\n",
       "      <td>21800</td>\n",
       "      <td>2018-11-15 03:32:55+00:00</td>\n",
       "      <td>2</td>\n",
       "      <td>0</td>\n",
       "      <td>3</td>\n",
       "      <td>15</td>\n",
       "      <td>11</td>\n",
       "      <td>2018</td>\n",
       "    </tr>\n",
       "    <tr>\n",
       "      <th>4</th>\n",
       "      <td>28195</td>\n",
       "      <td>38780</td>\n",
       "      <td>4841</td>\n",
       "      <td>3829</td>\n",
       "      <td>988</td>\n",
       "      <td>0</td>\n",
       "      <td>256</td>\n",
       "      <td>4</td>\n",
       "      <td>6</td>\n",
       "      <td>2</td>\n",
       "      <td>2</td>\n",
       "      <td>-644.0</td>\n",
       "      <td>644</td>\n",
       "      <td>2018-11-15 03:34:21+00:00</td>\n",
       "      <td>2</td>\n",
       "      <td>0</td>\n",
       "      <td>3</td>\n",
       "      <td>15</td>\n",
       "      <td>11</td>\n",
       "      <td>2018</td>\n",
       "    </tr>\n",
       "  </tbody>\n",
       "</table>\n",
       "</div>"
      ],
      "text/plain": [
       "   TransactionId  BatchId  AccountId  SubscriptionId  CustomerId  \\\n",
       "0          76871    36123       3957             887        4406   \n",
       "1          73770    15642       4841            3829        4406   \n",
       "2          26203    53941       4229             222        4683   \n",
       "3            380   102363        648            2185         988   \n",
       "4          28195    38780       4841            3829         988   \n",
       "\n",
       "   CurrencyCode  CountryCode  ProviderId  ProductId  ProductCategory  \\\n",
       "0             0          256           6         10                0   \n",
       "1             0          256           4          6                2   \n",
       "2             0          256           6          1                0   \n",
       "3             0          256           1         21                8   \n",
       "4             0          256           4          6                2   \n",
       "\n",
       "   ChannelId   Amount  Value      TransactionStartTime  PricingStrategy  \\\n",
       "0          3   1000.0   1000 2018-11-15 02:18:49+00:00                2   \n",
       "1          2    -20.0     20 2018-11-15 02:19:08+00:00                2   \n",
       "2          3    500.0    500 2018-11-15 02:44:21+00:00                2   \n",
       "3          3  20000.0  21800 2018-11-15 03:32:55+00:00                2   \n",
       "4          2   -644.0    644 2018-11-15 03:34:21+00:00                2   \n",
       "\n",
       "   FraudResult  TransactionHour  TransactionDay  TransactionMonth  \\\n",
       "0            0                2              15                11   \n",
       "1            0                2              15                11   \n",
       "2            0                2              15                11   \n",
       "3            0                3              15                11   \n",
       "4            0                3              15                11   \n",
       "\n",
       "   TransactionYear  \n",
       "0             2018  \n",
       "1             2018  \n",
       "2             2018  \n",
       "3             2018  \n",
       "4             2018  "
      ]
     },
     "execution_count": 12,
     "metadata": {},
     "output_type": "execute_result"
    }
   ],
   "source": [
    "data.head()"
   ]
  },
  {
   "cell_type": "markdown",
   "metadata": {},
   "source": [
    "Handle Missing Values\n"
   ]
  },
  {
   "cell_type": "markdown",
   "metadata": {},
   "source": [
    "by using imputation"
   ]
  },
  {
   "cell_type": "code",
   "execution_count": 14,
   "metadata": {},
   "outputs": [],
   "source": [
    "def handle_missing_values(data, strategy='mean'):\n",
    "    numerical_features = data.select_dtypes(include=[np.number]).columns.tolist()\n",
    "    imputer = SimpleImputer(strategy=strategy)\n",
    "    data[numerical_features] = imputer.fit_transform(data[numerical_features])\n",
    "    return data\n",
    "\n",
    "# Handle Missing Values\n",
    "data = handle_missing_values(data, strategy='mean')\n"
   ]
  },
  {
   "cell_type": "code",
   "execution_count": 15,
   "metadata": {},
   "outputs": [
    {
     "name": "stdout",
     "output_type": "stream",
     "text": [
      "Missing Values:\n",
      "Series([], dtype: int64)\n",
      "\n",
      "\n"
     ]
    }
   ],
   "source": [
    "def identify_missing_values(data):\n",
    "    missing_values = data.isnull().sum()\n",
    "    print(\"Missing Values:\")\n",
    "    print(missing_values[missing_values > 0])\n",
    "    print(\"\\n\")\n",
    "# Identify missing values\n",
    "identify_missing_values(data)"
   ]
  },
  {
   "cell_type": "markdown",
   "metadata": {},
   "source": [
    "# Normalize/Standardize Numerical Features\n",
    "Normalization and standardization are scaling techniques used to bring all numerical features onto a similar scale.\n"
   ]
  },
  {
   "cell_type": "markdown",
   "metadata": {},
   "source": [
    "Normalize Features:"
   ]
  },
  {
   "cell_type": "code",
   "execution_count": 16,
   "metadata": {},
   "outputs": [
    {
     "name": "stdout",
     "output_type": "stream",
     "text": [
      "Normalized Data:\n",
      "   TransactionId   BatchId  AccountId  SubscriptionId  CustomerId  \\\n",
      "0       0.546417  0.258949   0.817355        0.183078    0.589061   \n",
      "1       0.524374  0.112122   1.000000        0.791684    0.589061   \n",
      "2       0.186252  0.386684   0.873554        0.045511    0.626103   \n",
      "3       0.002694  0.733818   0.133678        0.451593    0.131987   \n",
      "4       0.200412  0.277996   1.000000        0.791684    0.131987   \n",
      "\n",
      "   CurrencyCode  CountryCode  ProviderId  ProductId  ProductCategory  \\\n",
      "0           0.0          0.0         1.0   0.346154             0.00   \n",
      "1           0.0          0.0         0.6   0.192308             0.25   \n",
      "2           0.0          0.0         1.0   0.000000             0.00   \n",
      "3           0.0          0.0         0.0   0.769231             1.00   \n",
      "4           0.0          0.0         0.6   0.192308             0.25   \n",
      "\n",
      "   ChannelId    Amount     Value      TransactionStartTime  PricingStrategy  \\\n",
      "0       0.50  0.092004  0.000101 2018-11-15 02:18:49+00:00              0.5   \n",
      "1       0.25  0.091910  0.000002 2018-11-15 02:19:08+00:00              0.5   \n",
      "2       0.50  0.091958  0.000050 2018-11-15 02:44:21+00:00              0.5   \n",
      "3       0.50  0.093750  0.002206 2018-11-15 03:32:55+00:00              0.5   \n",
      "4       0.25  0.091853  0.000065 2018-11-15 03:34:21+00:00              0.5   \n",
      "\n",
      "   FraudResult  TransactionHour  TransactionDay  TransactionMonth  \\\n",
      "0          0.0         0.086957        0.466667          0.909091   \n",
      "1          0.0         0.086957        0.466667          0.909091   \n",
      "2          0.0         0.086957        0.466667          0.909091   \n",
      "3          0.0         0.130435        0.466667          0.909091   \n",
      "4          0.0         0.130435        0.466667          0.909091   \n",
      "\n",
      "   TransactionYear  \n",
      "0              0.0  \n",
      "1              0.0  \n",
      "2              0.0  \n",
      "3              0.0  \n",
      "4              0.0  \n"
     ]
    }
   ],
   "source": [
    "def normalize_features(data):\n",
    "    numerical_features = data.select_dtypes(include=[np.number]).columns.tolist()\n",
    "    scaler = MinMaxScaler()\n",
    "    data[numerical_features] = scaler.fit_transform(data[numerical_features])\n",
    "    return data\n",
    "\n",
    "# Normalize Features\n",
    "normalized_data = normalize_features(data.copy())\n",
    "print(\"Normalized Data:\")\n",
    "print(normalized_data.head())"
   ]
  },
  {
   "cell_type": "markdown",
   "metadata": {},
   "source": [
    "Standardize Features:"
   ]
  },
  {
   "cell_type": "code",
   "execution_count": 17,
   "metadata": {},
   "outputs": [
    {
     "name": "stdout",
     "output_type": "stream",
     "text": [
      "Standardized Data:\n",
      "   TransactionId   BatchId  AccountId  SubscriptionId  CustomerId  \\\n",
      "0       0.160893 -0.847664   0.381677       -1.650828    0.774769   \n",
      "1       0.084563 -1.352296   0.948332        0.622801    0.774769   \n",
      "2      -1.086272 -0.408646   0.556032       -2.164752    0.942550   \n",
      "3      -1.721890  0.784424  -1.739433       -0.647711   -1.295536   \n",
      "4      -1.037240 -0.782198   0.948332        0.622801   -1.295536   \n",
      "\n",
      "   CurrencyCode  CountryCode  ProviderId  ProductId  ProductCategory  \\\n",
      "0           0.0          0.0    1.025848   0.554336        -0.799047   \n",
      "1           0.0          0.0   -0.502027  -0.304790         0.491064   \n",
      "2           0.0          0.0    1.025848  -1.378697        -0.799047   \n",
      "3           0.0          0.0   -2.793841   2.916933         4.361398   \n",
      "4           0.0          0.0   -0.502027  -0.304790         0.491064   \n",
      "\n",
      "   ChannelId    Amount     Value      TransactionStartTime  PricingStrategy  \\\n",
      "0   0.676000 -0.046371 -0.072291 2018-11-15 02:18:49+00:00        -0.349252   \n",
      "1  -1.114302 -0.054643 -0.080251 2018-11-15 02:19:08+00:00        -0.349252   \n",
      "2   0.676000 -0.050426 -0.076352 2018-11-15 02:44:21+00:00        -0.349252   \n",
      "3   0.676000  0.107717  0.096648 2018-11-15 03:32:55+00:00        -0.349252   \n",
      "4  -1.114302 -0.059704 -0.075183 2018-11-15 03:34:21+00:00        -0.349252   \n",
      "\n",
      "   FraudResult  TransactionHour  TransactionDay  TransactionMonth  \\\n",
      "0    -0.044962        -2.155530       -0.100739          0.848684   \n",
      "1    -0.044962        -2.155530       -0.100739          0.848684   \n",
      "2    -0.044962        -2.155530       -0.100739          0.848684   \n",
      "3    -0.044962        -1.949214       -0.100739          0.848684   \n",
      "4    -0.044962        -1.949214       -0.100739          0.848684   \n",
      "\n",
      "   TransactionYear  \n",
      "0        -0.994246  \n",
      "1        -0.994246  \n",
      "2        -0.994246  \n",
      "3        -0.994246  \n",
      "4        -0.994246  \n"
     ]
    }
   ],
   "source": [
    "def standardize_features(data):\n",
    "    numerical_features = data.select_dtypes(include=[np.number]).columns.tolist()\n",
    "    scaler = StandardScaler()\n",
    "    data[numerical_features] = scaler.fit_transform(data[numerical_features])\n",
    "    return data\n",
    "\n",
    "# Standardize Features\n",
    "standardized_data = standardize_features(data.copy())\n",
    "print(\"Standardized Data:\")\n",
    "print(standardized_data.head())"
   ]
  }
 ],
 "metadata": {
  "kernelspec": {
   "display_name": "Python 3",
   "language": "python",
   "name": "python3"
  },
  "language_info": {
   "codemirror_mode": {
    "name": "ipython",
    "version": 3
   },
   "file_extension": ".py",
   "mimetype": "text/x-python",
   "name": "python",
   "nbconvert_exporter": "python",
   "pygments_lexer": "ipython3",
   "version": "3.11.1"
  }
 },
 "nbformat": 4,
 "nbformat_minor": 2
}
